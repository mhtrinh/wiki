{
 "cells": [
  {
   "cell_type": "code",
   "execution_count": 1,
   "metadata": {},
   "outputs": [],
   "source": [
    "import matplotlib.pyplot as plt"
   ]
  },
  {
   "cell_type": "code",
   "execution_count": 87,
   "metadata": {},
   "outputs": [],
   "source": [
    "with open(\"rec.txt\") as f:\n",
    "    lines=f.read().splitlines()\n",
    "\n"
   ]
  },
  {
   "cell_type": "code",
   "execution_count": 88,
   "metadata": {},
   "outputs": [
    {
     "data": {
      "image/png": "[encoded data removed]",
      "text/plain": [
       "<Figure size 2304x144 with 1 Axes>"
      ]
     },
     "metadata": {
      "needs_background": "light"
     },
     "output_type": "display_data"
    }
   ],
   "source": [
    "plt.figure(figsize=(32,2))\n",
    "marked=False\n",
    "xm=[]\n",
    "for line in lines[1:]:\n",
    "#line = lines[0]\n",
    "    pulses = [int(x) for x in line.split(\",\")]\n",
    "    c=0\n",
    "    s=0\n",
    "    x=[0]\n",
    "    y=[0]\n",
    "\n",
    "    for p in pulses[-66:-1]: \n",
    "        if not marked:\n",
    "            if p > 2000:\n",
    "                xm.append(c)                \n",
    "        c += p\n",
    "        x.append(c)\n",
    "        s = 1-s\n",
    "        y.append(s)\n",
    "    plt.step(x,y)\n",
    "    marked=True\n",
    "for xc in xm:\n",
    "    plt.axvline(x=xc,linewidth=10)"
   ]
  },
  {
   "cell_type": "code",
   "execution_count": 91,
   "metadata": {},
   "outputs": [
    {
     "data": {
      "text/plain": [
       "[1516,\n",
       " 534,\n",
       " 488,\n",
       " 1598,\n",
       " 449,\n",
       " 1561,\n",
       " 1512,\n",
       " 533,\n",
       " 496,\n",
       " 1566,\n",
       " 480,\n",
       " 1567,\n",
       " 1505,\n",
       " 542,\n",
       " 483,\n",
       " 1590,\n",
       " 1516,\n",
       " 537,\n",
       " 491,\n",
       " 1550,\n",
       " 1520,\n",
       " 534,\n",
       " 488,\n",
       " 1564,\n",
       " 484,\n",
       " 1594,\n",
       " 452,\n",
       " 1561,\n",
       " 1518,\n",
       " 529,\n",
       " 1543,\n",
       " 550,\n",
       " 1514,\n",
       " 537,\n",
       " 486,\n",
       " 1555,\n",
       " 1516,\n",
       " 538,\n",
       " 1514,\n",
       " 534,\n",
       " 1512,\n",
       " 537,\n",
       " 1515,\n",
       " 548,\n",
       " 1509,\n",
       " 538,\n",
       " 477,\n",
       " 1662,\n",
       " 1450,\n",
       " 538,\n",
       " 1517,\n",
       " 536,\n",
       " 1502,\n",
       " 540,\n",
       " 1517,\n",
       " 547,\n",
       " 481,\n",
       " 1553,\n",
       " 1512,\n",
       " 544,\n",
       " 490,\n",
       " 1555,\n",
       " 1503,\n",
       " 536,\n",
       " 483]"
      ]
     },
     "execution_count": 91,
     "metadata": {},
     "output_type": "execute_result"
    }
   ],
   "source": [
    "pulses[-66:-1]"
   ]
  },
  {
   "cell_type": "code",
   "execution_count": 92,
   "metadata": {},
   "outputs": [
    {
     "data": {
      "image/png": "[encoded data removed]",
      "text/plain": [
       "<Figure size 2304x144 with 1 Axes>"
      ]
     },
     "metadata": {
      "needs_background": "light"
     },
     "output_type": "display_data"
    }
   ],
   "source": [
    "with open(\"1527.txt\") as f:\n",
    "    lines=f.read().splitlines()\n",
    "\n",
    "plt.figure(figsize=(32,2))\n",
    "marked=False\n",
    "xm=[]\n",
    "for line in lines[1:]:\n",
    "#line = lines[0]\n",
    "    pulses = [int(x) for x in line.split(\",\")]\n",
    "    c=0\n",
    "    s=0\n",
    "    x=[0]\n",
    "    y=[0]\n",
    "\n",
    "    for p in pulses[-48:-1]: \n",
    "        if not marked:\n",
    "            if p > 2000:\n",
    "                xm.append(c)                \n",
    "        c += p\n",
    "        x.append(c)\n",
    "        s = 1-s\n",
    "        y.append(s)\n",
    "    plt.step(x,y)\n",
    "    marked=True\n",
    "for xc in xm:\n",
    "    plt.axvline(x=xc,linewidth=10)"
   ]
  },
  {
   "cell_type": "code",
   "execution_count": 93,
   "metadata": {},
   "outputs": [
    {
     "data": {
      "text/plain": [
       "[929,\n",
       " 340,\n",
       " 327,\n",
       " 953,\n",
       " 324,\n",
       " 975,\n",
       " 901,\n",
       " 411,\n",
       " 261,\n",
       " 955,\n",
       " 318,\n",
       " 950,\n",
       " 931,\n",
       " 358,\n",
       " 321,\n",
       " 980,\n",
       " 923,\n",
       " 360,\n",
       " 322,\n",
       " 972,\n",
       " 912,\n",
       " 353,\n",
       " 319,\n",
       " 956,\n",
       " 327,\n",
       " 944,\n",
       " 315,\n",
       " 953,\n",
       " 932,\n",
       " 351,\n",
       " 925,\n",
       " 382,\n",
       " 929,\n",
       " 356,\n",
       " 316,\n",
       " 957,\n",
       " 951,\n",
       " 325,\n",
       " 952,\n",
       " 327,\n",
       " 953,\n",
       " 328,\n",
       " 953,\n",
       " 323,\n",
       " 928,\n",
       " 474,\n",
       " 197]"
      ]
     },
     "execution_count": 93,
     "metadata": {},
     "output_type": "execute_result"
    }
   ],
   "source": [
    "pulses[-48:-1]"
   ]
  },
  {
   "cell_type": "code",
   "execution_count": 84,
   "metadata": {},
   "outputs": [
    {
     "data": {
      "text/plain": [
       "(array([ 2., 16.,  5.,  1.,  0.,  0.,  0.,  0.,  1., 22.]),\n",
       " array([197. , 275.3, 353.6, 431.9, 510.2, 588.5, 666.8, 745.1, 823.4,\n",
       "        901.7, 980. ]),\n",
       " <a list of 10 Patch objects>)"
      ]
     },
     "execution_count": 84,
     "metadata": {},
     "output_type": "execute_result"
    },
    {
     "data": {
      "image/png": "[encoded data removed]",
      "text/plain": [
       "<Figure size 432x288 with 1 Axes>"
      ]
     },
     "metadata": {
      "needs_background": "light"
     },
     "output_type": "display_data"
    }
   ],
   "source": [
    "plt.hist(pulses[-48:-1])"
   ]
  },
  {
   "cell_type": "code",
   "execution_count": 89,
   "metadata": {},
   "outputs": [
    {
     "data": {
      "text/plain": [
       "[491,\n",
       " 1550,\n",
       " 1520,\n",
       " 534,\n",
       " 488,\n",
       " 1564,\n",
       " 484,\n",
       " 1594,\n",
       " 452,\n",
       " 1561,\n",
       " 1518,\n",
       " 529,\n",
       " 1543,\n",
       " 550,\n",
       " 1514,\n",
       " 537,\n",
       " 486,\n",
       " 1555,\n",
       " 1516,\n",
       " 538,\n",
       " 1514,\n",
       " 534,\n",
       " 1512,\n",
       " 537,\n",
       " 1515,\n",
       " 548,\n",
       " 1509,\n",
       " 538,\n",
       " 477,\n",
       " 1662,\n",
       " 1450,\n",
       " 538,\n",
       " 1517,\n",
       " 536,\n",
       " 1502,\n",
       " 540,\n",
       " 1517,\n",
       " 547,\n",
       " 481,\n",
       " 1553,\n",
       " 1512,\n",
       " 544,\n",
       " 490,\n",
       " 1555,\n",
       " 1503,\n",
       " 536,\n",
       " 483]"
      ]
     },
     "execution_count": 89,
     "metadata": {},
     "output_type": "execute_result"
    }
   ],
   "source": [
    "pulses[-48:-1]"
   ]
  },
  {
   "cell_type": "code",
   "execution_count": 85,
   "metadata": {},
   "outputs": [
    {
     "data": {
      "text/plain": [
       "[935,\n",
       " 381,\n",
       " 961,\n",
       " 323,\n",
       " 329,\n",
       " 947,\n",
       " 929,\n",
       " 345,\n",
       " 929,\n",
       " 347,\n",
       " 931,\n",
       " 350,\n",
       " 936,\n",
       " 342,\n",
       " 924,\n",
       " 365,\n",
       " 308,\n",
       " 972,\n",
       " 355,\n",
       " 9060,\n",
       " 929,\n",
       " 340,\n",
       " 327,\n",
       " 953,\n",
       " 324,\n",
       " 975,\n",
       " 901,\n",
       " 411,\n",
       " 261,\n",
       " 955,\n",
       " 318,\n",
       " 950,\n",
       " 931,\n",
       " 358,\n",
       " 321,\n",
       " 980,\n",
       " 923,\n",
       " 360,\n",
       " 322,\n",
       " 972,\n",
       " 912,\n",
       " 353,\n",
       " 319,\n",
       " 956,\n",
       " 327,\n",
       " 944,\n",
       " 315,\n",
       " 953,\n",
       " 932,\n",
       " 351,\n",
       " 925,\n",
       " 382,\n",
       " 929,\n",
       " 356,\n",
       " 316,\n",
       " 957,\n",
       " 951,\n",
       " 325,\n",
       " 952,\n",
       " 327,\n",
       " 953,\n",
       " 328,\n",
       " 953,\n",
       " 323,\n",
       " 928,\n",
       " 474,\n",
       " 197,\n",
       " 61463]"
      ]
     },
     "execution_count": 85,
     "metadata": {},
     "output_type": "execute_result"
    }
   ],
   "source": [
    "pulses"
   ]
  },
  {
   "cell_type": "code",
   "execution_count": 63,
   "metadata": {},
   "outputs": [
    {
     "data": {
      "text/plain": [
       "(array([255.,   1.,   1., 245.,   1.,   0.,   7.,   0.,   0.,   1.]),\n",
       " array([ 403.,  721., 1039., 1357., 1675., 1993., 2311., 2629., 2947.,\n",
       "        3265., 3583.]),\n",
       " <a list of 10 Patch objects>)"
      ]
     },
     "execution_count": 63,
     "metadata": {},
     "output_type": "execute_result"
    },
    {
     "data": {
      "image/png": "[encoded data removed]",
      "text/plain": [
       "<Figure size 432x288 with 1 Axes>"
      ]
     },
     "metadata": {
      "needs_background": "light"
     },
     "output_type": "display_data"
    }
   ],
   "source": [
    "plt.hist(pulses[-512:-1])"
   ]
  },
  {
   "cell_type": "code",
   "execution_count": 16,
   "metadata": {},
   "outputs": [
    {
     "data": {
      "text/plain": [
       "[<matplotlib.lines.Line2D at 0x7f9d3e6021d0>]"
      ]
     },
     "execution_count": 16,
     "metadata": {},
     "output_type": "execute_result"
    },
    {
     "data": {
      "image/png": "[encoded data removed]",
      "text/plain": [
       "<Figure size 1152x72 with 1 Axes>"
      ]
     },
     "metadata": {
      "needs_background": "light"
     },
     "output_type": "display_data"
    }
   ],
   "source": [
    "\n",
    "plt.step(x,y)"
   ]
  },
  {
   "cell_type": "code",
   "execution_count": 19,
   "metadata": {},
   "outputs": [
    {
     "data": {
      "text/plain": [
       "(array([64.,  0.,  0.,  0.,  8., 54.,  0.,  0.,  0.,  1.]),\n",
       " array([ 417. ,  631.2,  845.4, 1059.6, 1273.8, 1488. , 1702.2, 1916.4,\n",
       "        2130.6, 2344.8, 2559. ]),\n",
       " <a list of 10 Patch objects>)"
      ]
     },
     "execution_count": 19,
     "metadata": {},
     "output_type": "execute_result"
    },
    {
     "data": {
      "image/png": "[encoded data removed]",
      "text/plain": [
       "<Figure size 432x288 with 1 Axes>"
      ]
     },
     "metadata": {
      "needs_background": "light"
     },
     "output_type": "display_data"
    }
   ],
   "source": [
    "plt.hist(pulses[:-1])"
   ]
  },
  {
   "cell_type": "code",
   "execution_count": null,
   "metadata": {},
   "outputs": [],
   "source": []
  }
 ],
 "metadata": {
  "kernelspec": {
   "display_name": "Python 3",
   "language": "python",
   "name": "python3"
  },
  "language_info": {
   "codemirror_mode": {
    "name": "ipython",
    "version": 3
   },
   "file_extension": ".py",
   "mimetype": "text/x-python",
   "name": "python",
   "nbconvert_exporter": "python",
   "pygments_lexer": "ipython3",
   "version": "3.6.10"
  }
 },
 "nbformat": 4,
 "nbformat_minor": 2
}
